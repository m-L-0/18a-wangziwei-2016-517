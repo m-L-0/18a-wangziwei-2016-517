{
 "cells": [
  {
   "cell_type": "code",
   "execution_count": 6,
   "metadata": {},
   "outputs": [
    {
     "name": "stdout",
     "output_type": "stream",
     "text": [
      "[3 5 3]\n",
      "[1 3 3]\n",
      "1\n",
      "0\n"
     ]
    }
   ],
   "source": [
    "import tensorflow as tf\n",
    "\n",
    "a = [1,5,3]  \n",
    "\n",
    "f1 = tf.maximum(a, 3)  \n",
    "f2 = tf.minimum(a, 3)  \n",
    "f3 = tf.argmax(a, 0)  \n",
    "f4 = tf.argmin(a, 0)  \n",
    "\n",
    "with tf.Session() as sess:  \n",
    "    print(sess.run(f1))#print f1.eval()  \n",
    "    print(sess.run(f2)) \n",
    "    print(sess.run(f3))  \n",
    "    print(sess.run(f4))  "
   ]
  },
  {
   "cell_type": "code",
   "execution_count": 49,
   "metadata": {},
   "outputs": [],
   "source": [
    "import tensorflow as tf\n",
    "a = tf.constant(3)\n",
    "b = tf.constant(1)\n",
    "cond = a > b\n",
    "def true_fn():\n",
    "    return a\n",
    "\n",
    "def false_fn():\n",
    "    return b\n",
    "\n",
    "result = tf.cond(cond, lambda:a, lambda:b)"
   ]
  },
  {
   "cell_type": "code",
   "execution_count": 52,
   "metadata": {},
   "outputs": [],
   "source": [
    "import tensorflow as tf \n",
    "def condition(time, output_ta_l): \n",
    "    return tf.less(time, 3) \n",
    "def body(time, output_ta_l): \n",
    "    output_ta_l = output_ta_l.write(time, [2.4, 3.5]) \n",
    "    return time + 1, output_ta_l \n",
    "time = tf.constant(0) \n",
    "output_ta = tf.TensorArray(dtype=tf.float32, size=1, dynamic_size=True) \n",
    "result = tf.while_loop(condition, body, loop_vars=[time, output_ta]) \n",
    "last_time, last_out = result \n",
    "final_out = last_out.stack() "
   ]
  },
  {
   "cell_type": "code",
   "execution_count": null,
   "metadata": {},
   "outputs": [],
   "source": []
  }
 ],
 "metadata": {
  "kernelspec": {
   "display_name": "Python 3",
   "language": "python",
   "name": "python3"
  },
  "language_info": {
   "codemirror_mode": {
    "name": "ipython",
    "version": 3
   },
   "file_extension": ".py",
   "mimetype": "text/x-python",
   "name": "python",
   "nbconvert_exporter": "python",
   "pygments_lexer": "ipython3",
   "version": "3.5.2"
  }
 },
 "nbformat": 4,
 "nbformat_minor": 2
}
